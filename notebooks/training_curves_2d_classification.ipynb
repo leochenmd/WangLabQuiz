{
 "cells": [
  {
   "cell_type": "code",
   "execution_count": 2,
   "id": "32f9ee83-672e-4a51-a896-a5387682373f",
   "metadata": {},
   "outputs": [],
   "source": [
    "### IMPORTS\n",
    "import os\n",
    "import glob\n",
    "import json\n",
    "#import util\n",
    "\n",
    "import numpy as np\n",
    "import pandas as pd\n",
    "import random\n",
    "import math\n",
    "import matplotlib.pyplot as plt\n",
    "\n",
    "import torch\n",
    "import torch.nn as nn\n",
    "import torch.nn.functional as F\n",
    "import torch.utils.data as data\n",
    "from torch.autograd import Variable\n",
    "import torch.nn.init as init\n",
    "\n",
    "from collections import defaultdict\n",
    "from collections import Counter\n",
    "\n",
    "from datetime import datetime\n",
    "\n",
    "import SimpleITK as sitk"
   ]
  },
  {
   "cell_type": "code",
   "execution_count": 10,
   "id": "7c10e352-704e-4dfe-a35e-85a7e86bcaca",
   "metadata": {},
   "outputs": [],
   "source": [
    "# all the model architecture information is in the plans.json file:\n",
    "plans_json_path = r'C:\\Users\\Leo\\Documents\\UHN-MedImg3D-ML-quiz\\nnUNet_results\\Dataset002_PancreasLesion\\classifyinnUNetTrainer__classifyinnUNetPlans__2d\\plans.json'\n",
    "\n",
    "# the model files:\n",
    "saved_model_path = r'C:\\Users\\Leo\\Documents\\UHN-MedImg3D-ML-quiz\\nnUNet_results\\Dataset002_PancreasLesion\\classifyinnUNetTrainer__classifyinnUNetPlans__2d\\fold_0\\checkpoint_final.pth'\n",
    "\n",
    "saved_model_paths = [saved_model_path.replace('fold_0', 'fold_' + str(i)) for i in range(1)]\n",
    "\n"
   ]
  },
  {
   "cell_type": "code",
   "execution_count": 3,
   "id": "bee64a40-90df-4543-a2ef-552ed94efab7",
   "metadata": {},
   "outputs": [],
   "source": []
  },
  {
   "cell_type": "code",
   "execution_count": 4,
   "id": "5e89b3f5-c1e6-4643-8004-89bd8f8a99b7",
   "metadata": {},
   "outputs": [
    {
     "name": "stdout",
     "output_type": "stream",
     "text": [
      "network_weights\n",
      "optimizer_state\n",
      "grad_scaler_state\n",
      "logging\n",
      "_best_ema\n",
      "current_epoch\n",
      "init_args\n",
      "trainer_name\n",
      "inference_allowed_mirroring_axes\n"
     ]
    }
   ],
   "source": [
    "#pickle = torch.load(saved_model_path, weights_only = False)\n",
    "\n",
    "#network_weights = pickle['network_weights']\n",
    "\n",
    "#for key, value in pickle.items():\n",
    "#    print(key)"
   ]
  },
  {
   "cell_type": "code",
   "execution_count": 3,
   "id": "9733d919-386e-4b9f-880f-2048648f5f2f",
   "metadata": {},
   "outputs": [
    {
     "ename": "NameError",
     "evalue": "name 'picke' is not defined",
     "output_type": "error",
     "traceback": [
      "\u001b[1;31m---------------------------------------------------------------------------\u001b[0m",
      "\u001b[1;31mNameError\u001b[0m                                 Traceback (most recent call last)",
      "Cell \u001b[1;32mIn[3], line 1\u001b[0m\n\u001b[1;32m----> 1\u001b[0m \u001b[38;5;28;01mfor\u001b[39;00m key, value \u001b[38;5;129;01min\u001b[39;00m picke[\u001b[38;5;124m'\u001b[39m\u001b[38;5;124mlogging\u001b[39m\u001b[38;5;124m'\u001b[39m]\u001b[38;5;241m.\u001b[39mitems():\n\u001b[0;32m      2\u001b[0m     \u001b[38;5;28mprint\u001b[39m(key)\n",
      "\u001b[1;31mNameError\u001b[0m: name 'picke' is not defined"
     ]
    }
   ],
   "source": [
    "for key, value in pickle['logging'].items():\n",
    "    print(key)\n",
    "\n"
   ]
  },
  {
   "cell_type": "code",
   "execution_count": 17,
   "id": "cf6df444-6a03-462c-bf61-6391b01b80b4",
   "metadata": {},
   "outputs": [
    {
     "name": "stdout",
     "output_type": "stream",
     "text": [
      "     train pancreas dice  train lesion dice\n",
      "0               0.474920           0.000000\n",
      "1               0.633061           0.000000\n",
      "2               0.727856           0.000000\n",
      "3               0.738956           0.522162\n",
      "4               0.759710           0.528771\n",
      "..                   ...                ...\n",
      "170             0.912466           0.819403\n",
      "171             0.906472           0.824269\n",
      "172             0.913015           0.817304\n",
      "173             0.904498           0.832460\n",
      "174             0.910076           0.855373\n",
      "\n",
      "[175 rows x 2 columns]\n"
     ]
    }
   ],
   "source": [
    "#for key, value in pickle['logging']['dice_per_class_or_region'].items():\n",
    "#    print(key)\n",
    "\n"
   ]
  },
  {
   "cell_type": "code",
   "execution_count": 4,
   "id": "baf8ecaa-cc1f-402e-b0c2-51be857d7528",
   "metadata": {},
   "outputs": [
    {
     "name": "stdout",
     "output_type": "stream",
     "text": [
      "C:\\Users\\Leo\\Documents\\UHN-MedImg3D-ML-quiz\\nnUNet_results\\Dataset002_PancreasLesion\\classifyinnUNetTrainer__classifyinnUNetPlans__2d\\fold_0\\checkpoint_best.pth\n"
     ]
    }
   ],
   "source": [
    "for i, saved_model_path in enumerate(saved_model_paths):\n",
    "    print(saved_model_path)"
   ]
  },
  {
   "cell_type": "code",
   "execution_count": 11,
   "id": "b1fc3164-1836-4554-9f2a-0c6e81267047",
   "metadata": {},
   "outputs": [],
   "source": [
    "log_df = pd.DataFrame()\n",
    "\n",
    "for i, saved_model_path in enumerate(saved_model_paths):\n",
    "    pickle = torch.load(saved_model_path, weights_only = False)\n",
    "\n",
    "    network_weights = pickle['network_weights']    # all of the weights are here\n",
    "\n",
    "    #print(train_dice_df)\n",
    "\n",
    "    logging = pickle['logging']   # the dice scores and training/val loss are here\n",
    "\n",
    "    \n",
    "    temp_df = pd.DataFrame(logging['dice_per_class_or_region'], columns =['train pancreas dice ' + str(i), 'train lesion dice ' + str(i)]) \n",
    "    train_losses = logging['train_losses']\n",
    "    val_losses = logging['val_losses']\n",
    "\n",
    "    temp_df['train loss ' + str(i)] = train_losses\n",
    "    temp_df['val loss '+ str(i)] = val_losses\n",
    "\n",
    "    log_df = pd.concat([log_df, temp_df], axis=1)\n",
    "    #save the train and val losses to a csv file to plot\n",
    "\n",
    "\n"
   ]
  },
  {
   "cell_type": "code",
   "execution_count": 5,
   "id": "6303bc74-a11b-449e-a06c-de8e7c3f4b9e",
   "metadata": {},
   "outputs": [
    {
     "name": "stdout",
     "output_type": "stream",
     "text": [
      "     train pancreas dice 0  train lesion dice 0  train loss 0  val loss 0  \\\n",
      "0                 0.474920             0.000000      0.121354   -0.081016   \n",
      "1                 0.633061             0.000000     -0.130385   -0.238472   \n",
      "2                 0.727856             0.000000     -0.229837   -0.333564   \n",
      "3                 0.738956             0.522162     -0.348286   -0.449324   \n",
      "4                 0.759710             0.528771     -0.394962   -0.446905   \n",
      "..                     ...                  ...           ...         ...   \n",
      "195               0.908421             0.816541     -0.845872   -0.704840   \n",
      "196               0.912427             0.836879     -0.857661   -0.697062   \n",
      "197               0.907422             0.805684     -0.856692   -0.688883   \n",
      "198               0.913447             0.815045     -0.848958   -0.688845   \n",
      "199               0.908409             0.817731     -0.850636   -0.701321   \n",
      "\n",
      "     train pancreas dice 1  train lesion dice 1  train loss 1  val loss 1  \\\n",
      "0                 0.467457             0.000000      0.138115   -0.079823   \n",
      "1                 0.598639             0.000000     -0.140632   -0.203048   \n",
      "2                 0.690545             0.000000     -0.248848   -0.283503   \n",
      "3                 0.709005             0.379092     -0.340513   -0.376658   \n",
      "4                 0.729063             0.453569     -0.404955   -0.398447   \n",
      "..                     ...                  ...           ...         ...   \n",
      "195               0.897045             0.754886     -0.859850   -0.654010   \n",
      "196               0.892637             0.767521     -0.859573   -0.647073   \n",
      "197               0.904872             0.702108     -0.855576   -0.661859   \n",
      "198               0.897204             0.709833     -0.860728   -0.610418   \n",
      "199               0.891853             0.758083     -0.861172   -0.651953   \n",
      "\n",
      "     train pancreas dice 2  train lesion dice 2  train loss 2  val loss 2  \\\n",
      "0                 0.505315             0.000000      0.113943   -0.075275   \n",
      "1                 0.654674             0.000000     -0.145964   -0.189590   \n",
      "2                 0.699542             0.000000     -0.281387   -0.277974   \n",
      "3                 0.725586             0.412285     -0.341937   -0.369938   \n",
      "4                 0.722164             0.361518     -0.372118   -0.356053   \n",
      "..                     ...                  ...           ...         ...   \n",
      "195               0.880523             0.684020     -0.854297   -0.612819   \n",
      "196               0.884232             0.700022     -0.855808   -0.626966   \n",
      "197               0.893285             0.700708     -0.859198   -0.613250   \n",
      "198               0.889772             0.699221     -0.861518   -0.642605   \n",
      "199               0.878260             0.699795     -0.855153   -0.626429   \n",
      "\n",
      "     train pancreas dice 3  train lesion dice 3  train loss 3  val loss 3  \\\n",
      "0                 0.195563             0.000000      0.144029   -0.075482   \n",
      "1                 0.666761             0.000000     -0.138098   -0.247403   \n",
      "2                 0.699603             0.435572     -0.270473   -0.392185   \n",
      "3                 0.739864             0.420481     -0.361333   -0.409554   \n",
      "4                 0.765881             0.425609     -0.404375   -0.422414   \n",
      "..                     ...                  ...           ...         ...   \n",
      "195               0.898513             0.723291     -0.851897   -0.619899   \n",
      "196               0.906699             0.789206     -0.856642   -0.666216   \n",
      "197               0.901717             0.724111     -0.857787   -0.623559   \n",
      "198               0.904704             0.753312     -0.845624   -0.663089   \n",
      "199               0.911311             0.709524     -0.854474   -0.622896   \n",
      "\n",
      "     train pancreas dice 4  train lesion dice 4  train loss 4  val loss 4  \n",
      "0                 0.440266             0.000000      0.128893   -0.031761  \n",
      "1                 0.577436             0.000000     -0.094496   -0.172830  \n",
      "2                 0.651936             0.151156     -0.209640   -0.258911  \n",
      "3                 0.665744             0.436243     -0.304767   -0.337335  \n",
      "4                 0.712673             0.500285     -0.367880   -0.411997  \n",
      "..                     ...                  ...           ...         ...  \n",
      "195               0.894167             0.730209     -0.851150   -0.640312  \n",
      "196               0.893357             0.711650     -0.851367   -0.621034  \n",
      "197               0.898846             0.701180     -0.859016   -0.625519  \n",
      "198               0.890948             0.686196     -0.853463   -0.615781  \n",
      "199               0.899172             0.696685     -0.853968   -0.646389  \n",
      "\n",
      "[200 rows x 20 columns]\n"
     ]
    }
   ],
   "source": [
    "log_csvpath = r'C:\\Users\\Leo\\OneDrive\\Documents\\GitHub\\WangLabQuiz\\csv files\\segmentation_training_log.csv'   # csv with the image dimensions, image and mask file paths\n",
    "\n",
    "#log_df.to_csv(log_csvpath)\n",
    "    \n",
    "print(log_df)"
   ]
  },
  {
   "cell_type": "code",
   "execution_count": 13,
   "id": "bc5ea6b6-df65-4c97-8be8-3e650712d87d",
   "metadata": {
    "scrolled": true
   },
   "outputs": [
    {
     "data": {
      "image/png": "[encoded data removed]",
      "text/plain": [
       "<Figure size 640x480 with 1 Axes>"
      ]
     },
     "metadata": {},
     "output_type": "display_data"
    }
   ],
   "source": [
    "def plot_training_curves(train_loss, val_loss, pancreas_dice, lesion_dice, fold):\n",
    "    epochs = log_df.index.values + 1\n",
    "          \n",
    "    #sns.set(font_scale=2.5)\n",
    "    #fig, ax_all = plt.subplots(3, 1, figsize=(30, 54))\n",
    "    plt.figure()\n",
    "    ax = plt.axes()  #figsize=(30, 54))\n",
    "    ax.set_title('2d ClassifyinnUnet Loss fold ' + str(fold))\n",
    "    #ax2 = ax.twinx()\n",
    "\n",
    "    x_values = epochs\n",
    "    #ax.plot(x_values, self.my_fantastic_logging['train_losses'][:epoch + 1], color='b', ls='-', label=\"training loss\", linewidth=4)\n",
    "    ax.plot(x_values, train_loss, color='k', ls='-', label=\"training loss\", linewidth=3)\n",
    "    ax.plot(x_values, val_loss, color='b', ls='-', label=\"cross val loss\", linewidth=3)\n",
    "    #ax2.plot(x_values, pancreas_dice, color='g', ls='-', label=\"pancreas dice\", linewidth=3)\n",
    "    #ax2.plot(x_values, lesion_dice, color='r', ls='-', label=\"lesion dice\", linewidth=3)\n",
    "    ax.set_xlabel(\"epoch\")\n",
    "    ax.set_ylabel(\"loss\")\n",
    "    #ax2.set_ylabel(\"dice score\")\n",
    "    ax.legend(loc=(0.3, 0.5))\n",
    "    #ax2.legend(loc=(0.6, 0.5))\n",
    "\n",
    "\n",
    "for i in range(1):\n",
    "    train_loss = log_df['train loss ' + str(i)]\n",
    "    val_loss = log_df['val loss ' + str(i)]\n",
    "\n",
    "    pancreas_dice = None #log_df['train pancreas dice ' + str(i)]\n",
    "    lesion_dice = None #log_df['train lesion dice ' + str(i)]\n",
    "\n",
    "    plot_training_curves(train_loss, val_loss, pancreas_dice, lesion_dice, i)"
   ]
  },
  {
   "cell_type": "code",
   "execution_count": 39,
   "id": "c547e4f2-0136-4a1e-97ad-1cf312a93de4",
   "metadata": {},
   "outputs": [
    {
     "name": "stdout",
     "output_type": "stream",
     "text": [
      "[  1   2   3   4   5   6   7   8   9  10  11  12  13  14  15  16  17  18\n",
      "  19  20  21  22  23  24  25  26  27  28  29  30  31  32  33  34  35  36\n",
      "  37  38  39  40  41  42  43  44  45  46  47  48  49  50  51  52  53  54\n",
      "  55  56  57  58  59  60  61  62  63  64  65  66  67  68  69  70  71  72\n",
      "  73  74  75  76  77  78  79  80  81  82  83  84  85  86  87  88  89  90\n",
      "  91  92  93  94  95  96  97  98  99 100 101 102 103 104 105 106 107 108\n",
      " 109 110 111 112 113 114 115 116 117 118 119 120 121 122 123 124 125 126\n",
      " 127 128 129 130 131 132 133 134 135 136 137 138 139 140 141 142 143 144\n",
      " 145 146 147 148 149 150 151 152 153 154 155 156 157 158 159 160 161 162\n",
      " 163 164 165 166 167 168 169 170 171 172 173 174 175 176 177 178 179 180\n",
      " 181 182 183 184 185 186 187 188 189 190 191 192 193 194 195 196 197 198\n",
      " 199 200]\n"
     ]
    }
   ],
   "source": [
    "print(log_df.index.values + 1)"
   ]
  },
  {
   "cell_type": "code",
   "execution_count": null,
   "id": "ca13a9bc-170a-40ab-a0f8-74ff89b49d7d",
   "metadata": {},
   "outputs": [],
   "source": []
  }
 ],
 "metadata": {
  "kernelspec": {
   "display_name": "Python 3 (ipykernel)",
   "language": "python",
   "name": "python3"
  },
  "language_info": {
   "codemirror_mode": {
    "name": "ipython",
    "version": 3
   },
   "file_extension": ".py",
   "mimetype": "text/x-python",
   "name": "python",
   "nbconvert_exporter": "python",
   "pygments_lexer": "ipython3",
   "version": "3.12.5"
  }
 },
 "nbformat": 4,
 "nbformat_minor": 5
}
