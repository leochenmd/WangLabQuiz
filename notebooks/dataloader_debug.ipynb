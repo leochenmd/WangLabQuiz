{
 "cells": [
  {
   "cell_type": "markdown",
   "metadata": {},
   "source": [
    "# Coding exercise for Wang Lab\n",
    "### Implementation of nnU-net for the segmentation of pancreas and pancreatic lesions on CT scan, with classication of the pancreatic lesions\n",
    "### by Leo Chen\n",
    "### August/September 2024"
   ]
  },
  {
   "cell_type": "code",
   "execution_count": 1,
   "metadata": {},
   "outputs": [],
   "source": [
    "### IMPORTS\n",
    "import os\n",
    "import glob\n",
    "#import util\n",
    "\n",
    "import numpy as np\n",
    "import pandas as pd\n",
    "import random\n",
    "import math\n",
    "import matplotlib.pyplot as plt\n",
    "\n",
    "import torch\n",
    "import torch.nn as nn\n",
    "import torch.nn.functional as F\n",
    "import torch.utils.data as data\n",
    "from torch.autograd import Variable\n",
    "import torch.nn.init as init\n",
    "\n",
    "from collections import defaultdict\n",
    "from collections import Counter\n",
    "\n",
    "from datetime import datetime\n",
    "\n",
    "import SimpleITK as sitk\n",
    "#import nibabel as nib\n",
    "\n",
    "import json\n",
    "import shutil"
   ]
  },
  {
   "cell_type": "code",
   "execution_count": null,
   "metadata": {},
   "outputs": [],
   "source": []
  },
  {
   "cell_type": "code",
   "execution_count": 2,
   "metadata": {},
   "outputs": [
    {
     "data": {
      "text/plain": [
       "0"
      ]
     },
     "execution_count": 2,
     "metadata": {},
     "output_type": "execute_result"
    }
   ],
   "source": [
    "# check if cuda is working\n",
    "torch.cuda.is_available()\n",
    "torch.cuda.device_count()\n",
    "torch.cuda.current_device()"
   ]
  },
  {
   "cell_type": "code",
   "execution_count": 3,
   "metadata": {},
   "outputs": [],
   "source": [
    "### GLOBAL VARIABLES\n",
    "\n",
    "# using GPU?\n",
    "gpu = False\n",
    "\n",
    "\n",
    "# directories where the files are\n",
    "traindir = r'C:\\Users\\Leo\\Documents\\UHN-MedImg3D-ML-quiz\\train'\n",
    "valdir = r'C:\\Users\\Leo\\Documents\\UHN-MedImg3D-ML-quiz\\validation'\n",
    "testdir = r'C:\\Users\\Leo\\Documents\\UHN-MedImg3D-ML-quiz\\test'\n",
    "\n",
    "csvpath = r'C:\\Users\\Leo\\OneDrive\\Documents\\GitHub\\WangLabQuiz\\csv files\\trainval_metadata.csv'   # csv with the image dimensions, image and mask file paths\n",
    "\n",
    "nnUNet_raw_dir = r'C:\\Users\\Leo\\OneDrive\\Documents\\UHN-MedImg3D-ML-quiz\\nnUnet_raw'"
   ]
  },
  {
   "cell_type": "code",
   "execution_count": null,
   "metadata": {},
   "outputs": [],
   "source": []
  },
  {
   "cell_type": "code",
   "execution_count": 4,
   "metadata": {},
   "outputs": [],
   "source": [
    "### FUNCTIONS FOR SITK and IMAGE AUGMENTATION\n",
    "\n",
    "def rotateImage(original, anglex, angley, anglez, interpolate='linear'):\n",
    "    \"\"\" Returns the 'rotated' 3d image about the physical center that is resampled based on the 'original' image\n",
    "    1. original - original image \n",
    "    2. angle x is roll / twisting the body like a rolling pin, turning in dance\n",
    "    3. angle y is yaw / rotating the body like a propeller blade, like break dancing\n",
    "    4. angle z - pitch / tilt along the superior/inferior axis (i.e trendelenburg)\n",
    "    \n",
    "    \"\"\"\n",
    "\n",
    "    if interpolate == 'linear':\n",
    "        interpolator = sitk.sitkLinear\n",
    "    elif interpolate == 'NN':\n",
    "        interpolator = sitk.sitkNearestNeighbor\n",
    "\n",
    "    radx = anglex * math.pi / 180\n",
    "    rady = angley * math.pi / 180\n",
    "    radz = anglez * math.pi / 180\n",
    "\n",
    "    origin = np.array(original.GetOrigin())\n",
    "    pixelcenter = np.array(sitk.GetSize(original)) / 2.\n",
    "    physicalcenter = sitk.TransformContinuousIndexToPhysicalPoint(pixelcenter)\n",
    "\n",
    "    transform = sitk.Euler3DTransform()\n",
    "    transform.SetCenter(physicalcenter)\n",
    "    transform.SetRotation(radz, rady, radx)    # note the order is z, y, x\n",
    "\n",
    "    unitvecs = np.transpose(np.reshape(original.GetDirection(), (-1, 3)))\n",
    "    #print(unitvecs)\n",
    "    matrix = np.reshape(transform.GetMatrix(), (-1, 3))\n",
    "    inverse = np.linalg.inv(matrix)\n",
    "\n",
    "\n",
    "    # the transform matrix is actually mapping backwards: post to pre\n",
    "    # therefore the forward transformation is the inverse matrix\n",
    "    transformedunitvecs = inverse @ unitvecs   # new i, j, k are columns\n",
    "    #print(transformedunitvecs)\n",
    "    newdirection = transformedunitvecs.flatten('F')    # flatten by column\n",
    "\n",
    "    print(newdirection)\n",
    "    neworigin = (matrix @ (origin - physicalcenter)) + physicalcenter\n",
    "\n",
    "    rotatedImage = sitk.Resample(original, original, transform, interpolator)\n",
    "    rotatedImage.SetDirection(newdirection)\n",
    "    rotatedImage.SetOrigin(neworigin)\n",
    "\n",
    "    return rotatedImage\n",
    "\n",
    "def flipImage(original):\n",
    "    \"\"\"Flips an SimpleITK over left/right axis\"\"\"\n",
    "    flipped = sitk.Flip(original, [True, False, False])\n",
    "    return flipped\n",
    "\n",
    "def flipslice(original):\n",
    "    \"\"\"Flips a numpy slice (2d image) \"\"\"\n",
    "    # flips 2D slice (reverses x indices)\n",
    "    flipped = np.flipud(original)  #np.fliplr(original)\n",
    "    return flipped\n",
    "\n",
    "def bbox_3D(img):\n",
    "    \"\"\"Finds the bounding box around a 3D image (numpy)\n",
    "    returns rmin, rmax, cmin, cmax, zmin, zmax (r = row, c = column)\"\"\"\n",
    "    try:    \n",
    "        z = np.any(img, axis=(1, 2))    #z\n",
    "        c = np.any(img, axis=(0, 1))    #x , (c = column)\n",
    "        r = np.any(img, axis=(0, 2))    #y , (r = row)\n",
    "\n",
    "        rmin, rmax = np.where(r)[0][[0, -1]]\n",
    "        cmin, cmax = np.where(c)[0][[0, -1]]\n",
    "        zmin, zmax = np.where(z)[0][[0, -1]]\n",
    "\n",
    "        #x min max, y min max, z min max\n",
    "        return [rmin, rmax, cmin, cmax, zmin, zmax]\n",
    "    except:\n",
    "        return -1, -1, -1, -1, -1, -1\n",
    "\n",
    "\n",
    "def bbox_2D(img):\n",
    "    \"\"\"Finds the bounding box around a 2D image (numpy)\n",
    "    returns rmin, rmax, cmin, cmax (r = row, c = column)\n",
    "    If no elements exist, then returns (-1, -1, -1, -1)\"\"\"\n",
    "    \n",
    "    try:\n",
    "        c = np.any(img, axis=0)    #y , (c = column)\n",
    "        r = np.any(img, axis=1)    #x , (r = row)\n",
    "\n",
    "        rmin, rmax = np.where(r)[0][[0, -1]]\n",
    "        cmin, cmax = np.where(c)[0][[0, -1]]\n",
    "    \n",
    "        return rmin, rmax, cmin, cmax\n",
    "    except:\n",
    "        return -1, -1, -1, -1\n",
    "\n",
    "\n",
    "def cropImage(image, threshold, xshift, yshift):\n",
    "    \"\"\"Crops SimpleITK image to remove pixels below a threshold (e.g. black space)\n",
    "    Can also shift by *xshift and *yshift (random shifts in pixels) for augmentation\"\"\"\n",
    "    # load image\n",
    "    npy = sitk.GetArrayFromImage(image)\n",
    "\n",
    "    # GET METADATA\n",
    "    direction = image.GetDirection()\n",
    "    spacing = image.GetSpacing()\n",
    "\n",
    "    # CALCULATE BOUNDING BOX OF BODY (removes black space)\n",
    "    mask = npy > threshold\n",
    "    [xmin, xmax, ymin, ymax, zmin, zmax] = bbox_3D(mask)\n",
    "\n",
    "    # check to make sure shifts do not extend outside boundaries of image\n",
    "    if xmin + xshift < 0 or xmax + xshift > npy.shape[2]:\n",
    "        xshift = 0\n",
    "\n",
    "    if ymin + yshift < 0 or ymax + yshift > npy.shape[1]:\n",
    "        yshift = 0\n",
    "\n",
    "    # CROP IMAGE\n",
    "    newnpy = npy[zmin:zmax, (ymin+yshift):(ymax+yshift), (xmin+xshift):(xmax+xshift)]\n",
    "\n",
    "    newimage = sitk.GetImageFromArray(newnpy)\n",
    "    topleft = [int(xmin+xshift), int(ymin+yshift), zmin]\n",
    "    neworigin = image.TransformIndexToPhysicalPoint(topleft)\n",
    "\n",
    "    newimage.SetOrigin(neworigin)\n",
    "    newimage.SetDirection(direction)\n",
    "    newimage.SetSpacing(spacing)\n",
    "\n",
    "    return newimage\n",
    "\n",
    "\n",
    "def squareImage(image):\n",
    "    \"\"\"Makes an SimpleITK image square by padding with zeros\n",
    "    (square meaning width = height)\"\"\"\n",
    "    [numcols, numrows, numslices] = image.GetSize()\n",
    "    npy = sitk.GetArrayFromImage(image)\n",
    "\n",
    "    if numcols < numrows:    #pad columns\n",
    "        numzerostopad = numrows - numcols\n",
    "        leftpad = int(numzerostopad / 2)\n",
    "        rightpad = numzerostopad - leftpad\n",
    "\n",
    "        newnpy = np.concatenate((np.zeros([numslices, numrows, leftpad]), npy, np.zeros([numslices, numrows, rightpad])), axis=2)\n",
    "\n",
    "        topleft = [-leftpad, 0, 0]\n",
    "        neworigin = image.TransformIndexToPhysicalPoint(topleft)\n",
    "\n",
    "    elif numrows <= numcols:  #pad rows\n",
    "        numzerostopad = numcols - numrows\n",
    "        toppad = int(numzerostopad / 2)\n",
    "        botpad = numzerostopad - toppad\n",
    "\n",
    "        newnpy = np.concatenate((np.zeros([numslices, toppad, numcols]), npy, np.zeros([numslices, botpad, numcols])), axis=1)\n",
    "\n",
    "        topleft = [0, -toppad, 0]\n",
    "        neworigin = image.TransformIndexToPhysicalPoint(topleft)\n",
    "\n",
    "    paddedimg = sitk.GetImageFromArray(newnpy)\n",
    "    paddedimg.SetOrigin(neworigin)\n",
    "    paddedimg.SetDirection(image.GetDirection())\n",
    "    paddedimg.SetSpacing(image.GetSpacing())\n",
    "\n",
    "    return paddedimg\n",
    "\n",
    "def resampleImage(image, finalsize, interpolation='linear'):\n",
    "    \"\"\"Resamples SimpleITK image to finalsize x finalsize (width and height in pixels)\n",
    "    Preserves the original physical size of the image and number of slices\n",
    "    Changes the resolution so that the new image has numslices x *finalsize x *finalsize dimensions\"\"\"\n",
    "    \n",
    "    size = image.GetSize()\n",
    "    numslices = size[2]\n",
    "    squaresize = size[1]\n",
    "\n",
    "    # RESAMPLE TO finalsize x finalsize\n",
    "    finalnpy = np.zeros([numslices, finalsize, finalsize])\n",
    "    reference = sitk.GetImageFromArray(finalnpy)\n",
    "    reference.SetOrigin(image.GetOrigin())\n",
    "    reference.SetDirection(image.GetDirection())\n",
    "\n",
    "    spacing = image.GetSpacing()\n",
    "    newspacing = np.zeros(3)\n",
    "    newspacing[0:2] = (squaresize - 1) * np.array(spacing[0:2]) / (finalsize - 1)\n",
    "    newspacing[2] = spacing[2]\n",
    "    reference.SetSpacing(newspacing)\n",
    "\n",
    "\n",
    "    # MAKING RESAMPLING FILTER\n",
    "    resample = sitk.ResampleImageFilter()\n",
    "    resample.SetReferenceImage(reference)\n",
    "    if interpolation == 'linear':\n",
    "        resample.SetInterpolator(sitk.sitkLinear)\n",
    "    elif interpolation == 'NN':\n",
    "        resample.SetInterpolator(sitk.sitkNearestNeighbor)\n",
    "\n",
    "    # RESAMPLE TO finalsize x finalsize x n\n",
    "    resampledimg = resample.Execute(image)\n",
    "\n",
    "    return resampledimg\n",
    "\n",
    "\n",
    "def projectImage(reference, moving, interpolate = 'linear'):\n",
    "    \"\"\"Projects an SimpleITK image (*moving onto *reference)\n",
    "    interpolate* = linear or NN (nearest neighbor)\"\"\"\n",
    "    \n",
    "    resample = sitk.ResampleImageFilter()\n",
    "    resample.SetReferenceImage(reference)\n",
    "    if interpolate == 'linear':\n",
    "        resample.SetInterpolator(sitk.sitkLinear)\n",
    "    elif interpolate == 'NN':\n",
    "        resample.SetInterpolator(sitk.sitkNearestNeighbor)\n",
    "\n",
    "    resampledimg = resample.Execute(moving)\n",
    "\n",
    "    return resampledimg\n",
    "\n",
    "\n",
    "def resampleImageToVoxelSize(image, voxelx, voxely, voxelz, interpolation='linear'):\n",
    "    \"\"\"Resamples SimpleITK *image* to spacing *[voxelx, voxely, voxelz] in mm\n",
    "    Preserves the original physical size of the image\n",
    "    *voxelz is slice thickness (usually)\n",
    "    *voxelx and *voxely are voxel width and height, respectively\n",
    "    \"\"\"\n",
    "    \n",
    "    original_spacing = image.GetSpacing()\n",
    "    original_size = image.GetSize()\n",
    "    \n",
    "    new_spacing = [voxelx, voxely, voxelz]\n",
    "    new_size = [int(round(osz*ospc/nspc)) for osz,ospc,nspc in zip(original_size, original_spacing, new_spacing)]\n",
    "    # new dimension will be original size * original spacing / new spacing\n",
    "    # based on physical distance formula: \n",
    "    #    original size (pixel) * original spacing (mm / pixel) = new size (pixel) * new spacing (mm / pixel)\n",
    "    \n",
    "    if interpolation == 'linear':\n",
    "        interpolator = sitk.sitkLinear\n",
    "    elif interpolation == 'NN':\n",
    "        interpolator = sitk.sitkNearestNeighbor\n",
    "    \n",
    "    # creates new image\n",
    "    new_image = sitk.Resample(image, new_size, sitk.Transform(), interpolator,\n",
    "                         image.GetOrigin(), new_spacing, image.GetDirection(), 0,\n",
    "                         image.GetPixelID())\n",
    "    \n",
    "    return new_image\n",
    "\n",
    "\n",
    "def windowImage(image, window_width, window_center, output_min=0, output_max=255):\n",
    "    \"\"\"Normalizes SimpleITK *image* (CT scan) based on window specification\n",
    "    (example, abdominal soft tissue window is W = 400, C = 50, or -350 to 450)\n",
    "    Clips values above 0 and 1\n",
    "    \"\"\"\n",
    "    \n",
    "    window_min = window_center - window_width / 2\n",
    "    window_max = window_center + window_width / 2\n",
    "    \n",
    "    output_min = 0\n",
    "    output_max = 255\n",
    "    \n",
    "    windowed_image = sitk.IntensityWindowing(image, window_min, window_max, output_min, output_max)\n",
    "    \n",
    "    return windowed_image\n",
    "    \n"
   ]
  },
  {
   "cell_type": "markdown",
   "metadata": {},
   "source": [
    "### dataset.json"
   ]
  },
  {
   "cell_type": "code",
   "execution_count": 5,
   "metadata": {},
   "outputs": [],
   "source": [
    "raw_folder = r'C:\\Users\\Leo\\Documents\\UHN-MedImg3D-ML-quiz\\nnUnet_raw'\n",
    "data_folder = r'C:\\Users\\Leo\\Documents\\UHN-MedImg3D-ML-quiz\\nnUnet_raw\\Dataset002_PancreasLesion'\n"
   ]
  },
  {
   "cell_type": "code",
   "execution_count": 6,
   "metadata": {},
   "outputs": [],
   "source": [
    "from nnunetv2.training.dataloading.data_loader_3d_classify import nnUNetDataLoader3Dclassify\n",
    "from nnunetv2.training.dataloading.data_loader_2d_classify import nnUNetDataLoader2Dclassify\n",
    "from nnunetv2.utilities.plans_handling.plans_handler import PlansManager, ConfigurationManager\n",
    "from nnunetv2.training.dataloading.nnunet_dataset_classify import nnUNetDatasetClassify\n",
    "from nnunetv2.utilities.label_handling.label_handling import LabelManager\n",
    "from batchgenerators.utilities.file_and_folder_operations import load_json, join\n",
    "from nnunetv2.training.dataloading.base_data_loader_classify import nnUNetDataLoaderBaseClassify\n",
    "from nnunetv2.training.dataloading.nnunet_dataset_classify import nnUNetDatasetClassify\n",
    "\n",
    "import numpy as np"
   ]
  },
  {
   "cell_type": "code",
   "execution_count": 7,
   "metadata": {},
   "outputs": [],
   "source": [
    "\n",
    "\n",
    "#folder = r'C:\\Users\\Leo\\Documents\\UHN-MedImg3D-ML-quiz\\nnUNet_preprocessed\\Dataset002_PancreasLesion\\nnUNetPlans_3d_fullres'\n",
    "folder = r'C:\\Users\\Leo\\Documents\\UHN-MedImg3D-ML-quiz\\nnUNet_preprocessed\\Dataset002_PancreasLesion\\nnUNetPlans_2d'\n",
    "ds = nnUNetDatasetClassify(folder, None, 0)\n",
    "\n",
    "\n",
    "nnUNet_preprocessed = r'C:\\Users\\Leo\\Documents\\UHN-MedImg3D-ML-quiz\\nnUNet_preprocessed\\Dataset002_PancreasLesion'\n",
    "dataset_json = load_json(r'C:\\Users\\Leo\\Documents\\UHN-MedImg3D-ML-quiz\\nnUNet_preprocessed\\Dataset002_PancreasLesion\\dataset.json')\n",
    "\n",
    "plans = load_json(join(nnUNet_preprocessed, 'ClassifyinnUNetPlans.json'))\n",
    "\n",
    "plans_manager = PlansManager(plans)\n",
    "\n",
    "label_manager = plans_manager.get_label_manager(dataset_json)\n",
    "\n"
   ]
  },
  {
   "cell_type": "code",
   "execution_count": 8,
   "metadata": {},
   "outputs": [
    {
     "name": "stdout",
     "output_type": "stream",
     "text": [
      "{'dataset_name': 'Dataset002_PancreasLesion', 'plans_name': 'classifyinnUNetPlans', 'original_median_spacing_after_transp': [2.0, 0.73046875, 0.73046875], 'original_median_shape_after_transp': [64, 119, 178], 'image_reader_writer': 'SimpleITKIO', 'transpose_forward': [0, 1, 2], 'transpose_backward': [0, 1, 2], 'configurations': {'2d': {'data_identifier': 'nnUNetPlans_2d', 'preprocessor_name': 'DefaultPreprocessor', 'batch_size': 132, 'patch_size': [128, 192], 'median_image_size_in_voxels': [118.0, 181.0], 'spacing': [0.73046875, 0.73046875], 'normalization_schemes': ['CTNormalization'], 'use_mask_for_norm': [False], 'resampling_fn_data': 'resample_data_or_seg_to_shape', 'resampling_fn_seg': 'resample_data_or_seg_to_shape', 'resampling_fn_data_kwargs': {'is_seg': False, 'order': 3, 'order_z': 0, 'force_separate_z': None}, 'resampling_fn_seg_kwargs': {'is_seg': True, 'order': 1, 'order_z': 0, 'force_separate_z': None}, 'resampling_fn_probabilities': 'resample_data_or_seg_to_shape', 'resampling_fn_probabilities_kwargs': {'is_seg': False, 'order': 1, 'order_z': 0, 'force_separate_z': None}, 'architecture': {'network_class_name': 'dynamic_network_architectures.architectures.unet.ClassifyinnUNet', 'arch_kwargs': {'n_stages': 6, 'features_per_stage': [32, 64, 128, 256, 512, 512], 'conv_op': 'torch.nn.modules.conv.Conv2d', 'kernel_sizes': [[3, 3], [3, 3], [3, 3], [3, 3], [3, 3], [3, 3]], 'strides': [[1, 1], [2, 2], [2, 2], [2, 2], [2, 2], [2, 2]], 'n_conv_per_stage': [2, 2, 2, 2, 2, 2], 'n_conv_per_stage_decoder': [2, 2, 2, 2, 2], 'conv_bias': True, 'norm_op': 'torch.nn.modules.instancenorm.InstanceNorm2d', 'norm_op_kwargs': {'eps': 1e-05, 'affine': True}, 'dropout_op': None, 'dropout_op_kwargs': None, 'nonlin': 'torch.nn.LeakyReLU', 'nonlin_kwargs': {'inplace': True}}, '_kw_requires_import': ['conv_op', 'norm_op', 'dropout_op', 'nonlin']}, 'batch_dice': True}, '3d_fullres': {'data_identifier': 'nnUNetPlans_3d_fullres', 'preprocessor_name': 'DefaultPreprocessor', 'batch_size': 3, 'patch_size': [64, 128, 192], 'median_image_size_in_voxels': [59.0, 118.0, 181.0], 'spacing': [2.0, 0.73046875, 0.73046875], 'normalization_schemes': ['CTNormalization'], 'use_mask_for_norm': [False], 'resampling_fn_data': 'resample_data_or_seg_to_shape', 'resampling_fn_seg': 'resample_data_or_seg_to_shape', 'resampling_fn_data_kwargs': {'is_seg': False, 'order': 3, 'order_z': 0, 'force_separate_z': None}, 'resampling_fn_seg_kwargs': {'is_seg': True, 'order': 1, 'order_z': 0, 'force_separate_z': None}, 'resampling_fn_probabilities': 'resample_data_or_seg_to_shape', 'resampling_fn_probabilities_kwargs': {'is_seg': False, 'order': 1, 'order_z': 0, 'force_separate_z': None}, 'architecture': {'network_class_name': 'dynamic_network_architectures.architectures.unet.ClassifyinnUNet', 'arch_kwargs': {'n_stages': 6, 'features_per_stage': [32, 64, 128, 256, 320, 320], 'conv_op': 'torch.nn.modules.conv.Conv3d', 'kernel_sizes': [[1, 3, 3], [3, 3, 3], [3, 3, 3], [3, 3, 3], [3, 3, 3], [3, 3, 3]], 'strides': [[1, 1, 1], [1, 2, 2], [2, 2, 2], [2, 2, 2], [2, 2, 2], [2, 2, 2]], 'n_conv_per_stage': [2, 2, 2, 2, 2, 2], 'n_conv_per_stage_decoder': [2, 2, 2, 2, 2], 'conv_bias': True, 'norm_op': 'torch.nn.modules.instancenorm.InstanceNorm3d', 'norm_op_kwargs': {'eps': 1e-05, 'affine': True}, 'dropout_op': None, 'dropout_op_kwargs': None, 'nonlin': 'torch.nn.LeakyReLU', 'nonlin_kwargs': {'inplace': True}}, '_kw_requires_import': ['conv_op', 'norm_op', 'dropout_op', 'nonlin']}, 'batch_dice': False}}, 'experiment_planner_used': 'ExperimentPlanner', 'label_manager': 'LabelManager', 'foreground_intensity_properties_per_channel': {'0': {'max': 1929.0, 'mean': 74.26173400878906, 'median': 78.00000762939453, 'min': -964.0013427734375, 'percentile_00_5': -71.99081420898438, 'percentile_99_5': 180.0, 'std': 45.40709686279297}}}\n"
     ]
    }
   ],
   "source": [
    "print(plans)"
   ]
  },
  {
   "cell_type": "code",
   "execution_count": 12,
   "metadata": {},
   "outputs": [
    {
     "name": "stdout",
     "output_type": "stream",
     "text": [
      "<nnunetv2.training.dataloading.base_data_loader_classify.nnUNetDataLoaderBaseClassify object at 0x0000016208FB4EF0>\n"
     ]
    }
   ],
   "source": [
    "dl = nnUNetDataLoaderBaseClassify(data=ds,\n",
    "                                  batch_size=2,\n",
    "                                  patch_size=[128, 192],\n",
    "                                  final_patch_size= [128, 192],\n",
    "                                  label_manager=label_manager\n",
    "                                  )\n",
    "\n",
    "print(dl)"
   ]
  },
  {
   "cell_type": "code",
   "execution_count": 13,
   "metadata": {},
   "outputs": [],
   "source": [
    "\n",
    "\n",
    "dl2D = nnUNetDataLoader2Dclassify(data=ds,\n",
    "                                  batch_size=2,\n",
    "                                  patch_size=[128, 192],\n",
    "                                  final_patch_size= [128, 192],\n",
    "                                  label_manager=label_manager\n",
    "                                  )"
   ]
  },
  {
   "cell_type": "code",
   "execution_count": 54,
   "metadata": {},
   "outputs": [],
   "source": [
    "dict = dl2D.generate_train_batch()"
   ]
  },
  {
   "cell_type": "code",
   "execution_count": 55,
   "metadata": {},
   "outputs": [
    {
     "name": "stdout",
     "output_type": "stream",
     "text": [
      "(2, 1, 128, 192)\n",
      "(2, 1, 128, 192)\n"
     ]
    },
    {
     "data": {
      "text/plain": [
       "<matplotlib.image.AxesImage at 0x1623665c7a0>"
      ]
     },
     "execution_count": 55,
     "metadata": {},
     "output_type": "execute_result"
    },
    {
     "data": {
      "image/png": "[encoded data removed]",
      "text/plain": [
       "<Figure size 640x480 with 1 Axes>"
      ]
     },
     "metadata": {},
     "output_type": "display_data"
    },
    {
     "data": {
      "image/png": "[encoded data removed]",
      "text/plain": [
       "<Figure size 640x480 with 1 Axes>"
      ]
     },
     "metadata": {},
     "output_type": "display_data"
    }
   ],
   "source": [
    "data = dict['data']\n",
    "segs = dict['target']\n",
    "\n",
    "print(data.shape)\n",
    "print(segs.shape)\n",
    "\n",
    "i = 1\n",
    "\n",
    "plt.figure()\n",
    "plt.imshow(data[i, 0], cmap='gray')\n",
    "plt.figure()\n",
    "plt.imshow(segs[i, 0])"
   ]
  },
  {
   "cell_type": "code",
   "execution_count": 11,
   "metadata": {},
   "outputs": [
    {
     "ename": "IndexError",
     "evalue": "index 2 is out of bounds for axis 0 with size 2",
     "output_type": "error",
     "traceback": [
      "\u001b[1;31m---------------------------------------------------------------------------\u001b[0m",
      "\u001b[1;31mIndexError\u001b[0m                                Traceback (most recent call last)",
      "Cell \u001b[1;32mIn[11], line 24\u001b[0m\n\u001b[0;32m     22\u001b[0m shape \u001b[38;5;241m=\u001b[39m data\u001b[38;5;241m.\u001b[39mshape[\u001b[38;5;241m1\u001b[39m:]\n\u001b[0;32m     23\u001b[0m dim \u001b[38;5;241m=\u001b[39m \u001b[38;5;28mlen\u001b[39m(shape)\n\u001b[1;32m---> 24\u001b[0m bbox_lbs, bbox_ubs \u001b[38;5;241m=\u001b[39m dl\u001b[38;5;241m.\u001b[39mget_bbox(shape, force_fg, properties[\u001b[38;5;124m'\u001b[39m\u001b[38;5;124mclass_locations\u001b[39m\u001b[38;5;124m'\u001b[39m])\n",
      "File \u001b[1;32m~\\OneDrive\\Documents\\GitHub\\WangLabQuiz\\nnUNet\\nnunetv2\\training\\dataloading\\base_data_loader_classify.py:75\u001b[0m, in \u001b[0;36mnnUNetDataLoaderBaseClassify.get_bbox\u001b[1;34m(self, data_shape, force_fg, class_locations, overwrite_class, verbose)\u001b[0m\n\u001b[0;32m     70\u001b[0m dim \u001b[38;5;241m=\u001b[39m \u001b[38;5;28mlen\u001b[39m(data_shape)\n\u001b[0;32m     72\u001b[0m \u001b[38;5;28;01mfor\u001b[39;00m d \u001b[38;5;129;01min\u001b[39;00m \u001b[38;5;28mrange\u001b[39m(dim):\n\u001b[0;32m     73\u001b[0m     \u001b[38;5;66;03m# if case_all_data.shape + need_to_pad is still < patch size we need to pad more! We pad on both sides\u001b[39;00m\n\u001b[0;32m     74\u001b[0m     \u001b[38;5;66;03m# always\u001b[39;00m\n\u001b[1;32m---> 75\u001b[0m     \u001b[38;5;28;01mif\u001b[39;00m need_to_pad[d] \u001b[38;5;241m+\u001b[39m data_shape[d] \u001b[38;5;241m<\u001b[39m \u001b[38;5;28mself\u001b[39m\u001b[38;5;241m.\u001b[39mpatch_size[d]:\n\u001b[0;32m     76\u001b[0m         need_to_pad[d] \u001b[38;5;241m=\u001b[39m \u001b[38;5;28mself\u001b[39m\u001b[38;5;241m.\u001b[39mpatch_size[d] \u001b[38;5;241m-\u001b[39m data_shape[d]\n\u001b[0;32m     78\u001b[0m \u001b[38;5;66;03m# we can now choose the bbox from -need_to_pad // 2 to shape - patch_size + need_to_pad // 2. Here we\u001b[39;00m\n\u001b[0;32m     79\u001b[0m \u001b[38;5;66;03m# define what the upper and lower bound can be to then sample form them with np.random.randint\u001b[39;00m\n",
      "\u001b[1;31mIndexError\u001b[0m: index 2 is out of bounds for axis 0 with size 2"
     ]
    }
   ],
   "source": [
    "import numpy as np\n",
    "import torch\n",
    "from threadpoolctl import threadpool_limits\n",
    "\n",
    "from nnunetv2.training.dataloading.base_data_loader_classify import nnUNetDataLoaderBaseClassify\n",
    "from nnunetv2.training.dataloading.nnunet_dataset_classify import nnUNetDatasetClassify\n",
    "\n",
    "\n",
    "class nnUNetDataLoader2Dclassify(nnUNetDataLoaderBaseClassify):\n",
    "    def generate_train_batch(self):\n",
    "        selected_keys = self.get_indices()\n",
    "        # preallocate memory for data and seg\n",
    "        data_all = np.zeros(self.data_shape, dtype=np.float32)\n",
    "        seg_all = np.zeros(self.seg_shape, dtype=np.int16)\n",
    "        lesion_all = np.zeros(len(selected_keys))\n",
    "\n",
    "        case_properties = []\n",
    "\n",
    "        for j, current_key in enumerate(selected_keys):\n",
    "            # oversampling foreground will improve stability of model training, especially if many patches are empty\n",
    "            # (Lung for example)\n",
    "            #force_fg = self.get_do_oversample(j)\n",
    "            force_fg = True\n",
    "\n",
    "\n",
    "            data, seg, properties, lesion = self._data.load_case(current_key)\n",
    "            case_properties.append(properties)\n",
    "\n",
    "            # select a class/region first, then a slice where this class is present, then crop to that area\n",
    "            if not force_fg:\n",
    "                if self.has_ignore:\n",
    "                    selected_class_or_region = self.annotated_classes_key if (\n",
    "                            len(properties['class_locations'][self.annotated_classes_key]) > 0) else None\n",
    "                else:\n",
    "                    selected_class_or_region = None\n",
    "            else:\n",
    "                # filter out all classes that are not present here\n",
    "                #eligible_classes_or_regions = [i for i in properties['class_locations'].keys() if len(properties['class_locations'][i]) > 0]\n",
    "                eligible_classes_or_regions = [2]\n",
    "\n",
    "                # if we have annotated_classes_key locations and other classes are present, remove the annotated_classes_key from the list\n",
    "                # strange formulation needed to circumvent\n",
    "                # ValueError: The truth value of an array with more than one element is ambiguous. Use a.any() or a.all()\n",
    "                tmp = [i == self.annotated_classes_key if isinstance(i, tuple) else False for i in eligible_classes_or_regions]\n",
    "                if any(tmp):\n",
    "                    if len(eligible_classes_or_regions) > 1:\n",
    "                        eligible_classes_or_regions.pop(np.where(tmp)[0][0])\n",
    "\n",
    "                selected_class_or_region = eligible_classes_or_regions[np.random.choice(len(eligible_classes_or_regions))] if \\\n",
    "                    len(eligible_classes_or_regions) > 0 else None\n",
    "\n",
    "            if selected_class_or_region is not None:\n",
    "                selected_slice = np.random.choice(properties['class_locations'][selected_class_or_region][:, 1])\n",
    "            else:\n",
    "                selected_slice = np.random.choice(len(data[0]))\n",
    "\n",
    "            data = data[:, selected_slice]\n",
    "            seg = seg[:, selected_slice]\n",
    "\n",
    "            # the line of death lol\n",
    "            # this needs to be a separate variable because we could otherwise permanently overwrite\n",
    "            # properties['class_locations']\n",
    "            # selected_class_or_region is:\n",
    "            # - None if we do not have an ignore label and force_fg is False OR if force_fg is True but there is no foreground in the image\n",
    "            # - A tuple of all (non-ignore) labels if there is an ignore label and force_fg is False\n",
    "            # - a class or region if force_fg is True\n",
    "            class_locations = {\n",
    "                selected_class_or_region: properties['class_locations'][selected_class_or_region][properties['class_locations'][selected_class_or_region][:, 1] == selected_slice][:, (0, 2, 3)]\n",
    "            } if (selected_class_or_region is not None) else None\n",
    "\n",
    "            # print(properties)\n",
    "            shape = data.shape[1:]\n",
    "            dim = len(shape)\n",
    "            bbox_lbs, bbox_ubs = self.get_bbox(shape, force_fg if selected_class_or_region is not None else False,\n",
    "                                               class_locations, overwrite_class=selected_class_or_region)\n",
    "\n",
    "\n",
    "            # whoever wrote this knew what he was doing (hint: it was me). We first crop the data to the region of the\n",
    "            # bbox that actually lies within the data. This will result in a smaller array which is then faster to pad.\n",
    "            # valid_bbox is just the coord that lied within the data cube. It will be padded to match the patch size\n",
    "            # later\n",
    "            valid_bbox_lbs = [max(0, bbox_lbs[i]) for i in range(dim)]\n",
    "            valid_bbox_ubs = [min(shape[i], bbox_ubs[i]) for i in range(dim)]\n",
    "\n",
    "            # At this point you might ask yourself why we would treat seg differently from seg_from_previous_stage.\n",
    "            # Why not just concatenate them here and forget about the if statements? Well that's because segneeds to\n",
    "            # be padded with -1 constant whereas seg_from_previous_stage needs to be padded with 0s (we could also\n",
    "            # remove label -1 in the data augmentation but this way it is less error prone)\n",
    "            this_slice = tuple([slice(0, data.shape[0])] + [slice(i, j) for i, j in zip(valid_bbox_lbs, valid_bbox_ubs)])\n",
    "            data = data[this_slice]\n",
    "\n",
    "            this_slice = tuple([slice(0, seg.shape[0])] + [slice(i, j) for i, j in zip(valid_bbox_lbs, valid_bbox_ubs)])\n",
    "            seg = seg[this_slice]\n",
    "\n",
    "            padding = [(-min(0, bbox_lbs[i]), max(bbox_ubs[i] - shape[i], 0)) for i in range(dim)]\n",
    "            data_all[j] = np.pad(data, ((0, 0), *padding), 'constant', constant_values=0)\n",
    "            seg_all[j] = np.pad(seg, ((0, 0), *padding), 'constant', constant_values=-1)\n",
    "            lesion_all[j] = int(lesion)\n",
    "\n",
    "        if self.transforms is not None:\n",
    "            with torch.no_grad():\n",
    "                with threadpool_limits(limits=1, user_api=None):\n",
    "\n",
    "                    data_all = torch.from_numpy(data_all).float()\n",
    "                    seg_all = torch.from_numpy(seg_all).to(torch.int16)\n",
    "                    lesion_all = torch.from_numpy(lesion_all).type(torch.LongTensor)\n",
    "\n",
    "                    images = []\n",
    "                    segs = []\n",
    "                    for b in range(self.batch_size):\n",
    "                        tmp = self.transforms(**{'image': data_all[b], 'segmentation': seg_all[b]})\n",
    "                        images.append(tmp['image'])\n",
    "                        segs.append(tmp['segmentation'])\n",
    "                    data_all = torch.stack(images)\n",
    "                    if isinstance(segs[0], list):\n",
    "                        seg_all = [torch.stack([s[i] for s in segs]) for i in range(len(segs[0]))]\n",
    "                    else:\n",
    "                        seg_all = torch.stack(segs)\n",
    "                    del segs, images\n",
    "\n",
    "            return {'data': data_all, 'target': seg_all, 'keys': selected_keys, 'lesion_class': lesion_all}\n",
    "\n",
    "        return {'data': data_all, 'target': seg_all, 'keys': selected_keys, 'lesion_class': lesion_all}\n",
    "\n",
    "\n",
    "#if __name__ == '__main__':\n",
    "#    folder = '/media/fabian/data/nnUNet_preprocessed/Dataset004_Hippocampus/2d'\n",
    "#    ds = nnUNetDataset(folder, None, 1000)  # this should not load the properties!\n",
    "#    dl = nnUNetDataLoader2D(ds, 366, (65, 65), (56, 40), 0.33, None, None)\n",
    "#    a = next(dl)\n"
   ]
  },
  {
   "cell_type": "code",
   "execution_count": 47,
   "metadata": {},
   "outputs": [
    {
     "name": "stdout",
     "output_type": "stream",
     "text": [
      "quiz_1_034\n",
      "[21, -8, -12] [85, 120, 180]\n"
     ]
    }
   ],
   "source": [
    "print(i)\n",
    "print(bbox_lbs, bbox_ubs)\n",
    "\n",
    "pancreas_locs = properties['class_locations'][1]\n",
    "lesion_locs = properties['class_locations'][2]"
   ]
  },
  {
   "cell_type": "code",
   "execution_count": 49,
   "metadata": {},
   "outputs": [
    {
     "name": "stdout",
     "output_type": "stream",
     "text": [
      "[ 0 37 51 13]\n"
     ]
    }
   ],
   "source": [
    "print(pancreas_locs[0])"
   ]
  },
  {
   "cell_type": "code",
   "execution_count": 48,
   "metadata": {},
   "outputs": [
    {
     "name": "stdout",
     "output_type": "stream",
     "text": [
      "(10000, 4)\n",
      "(10000, 4)\n",
      "(1, 75, 113, 169)\n",
      "(1, 75, 113, 169)\n"
     ]
    }
   ],
   "source": [
    "print(pancreas_locs.shape)\n",
    "print(lesion_locs.shape)\n",
    "print(data.shape)\n",
    "print(seg.shape)"
   ]
  },
  {
   "cell_type": "code",
   "execution_count": 5,
   "metadata": {},
   "outputs": [],
   "source": [
    "dict = dl3D.generate_train_batch()"
   ]
  },
  {
   "cell_type": "code",
   "execution_count": 6,
   "metadata": {},
   "outputs": [
    {
     "name": "stdout",
     "output_type": "stream",
     "text": [
      "data\n",
      "target\n",
      "keys\n",
      "lesion_class\n"
     ]
    }
   ],
   "source": [
    "for key, value in dict.items():\n",
    "    print(key)"
   ]
  },
  {
   "cell_type": "code",
   "execution_count": 10,
   "metadata": {},
   "outputs": [],
   "source": [
    "data = dict['data']\n",
    "target = dict['target']\n",
    "keys = dict['keys']\n",
    "lesion_class = dict['lesion_class']"
   ]
  },
  {
   "cell_type": "code",
   "execution_count": 8,
   "metadata": {},
   "outputs": [
    {
     "name": "stdout",
     "output_type": "stream",
     "text": [
      "['quiz_1_516' 'quiz_1_025' 'quiz_0_313']\n",
      "[1. 1. 0.]\n"
     ]
    }
   ],
   "source": [
    "print(keys)\n",
    "print(lesion_class)"
   ]
  },
  {
   "cell_type": "code",
   "execution_count": 14,
   "metadata": {},
   "outputs": [
    {
     "name": "stdout",
     "output_type": "stream",
     "text": [
      "(3, 1, 64, 128, 192)\n",
      "(3, 1, 64, 128, 192)\n",
      "1.0\n"
     ]
    }
   ],
   "source": [
    "print(data.shape)\n",
    "print(target.shape)"
   ]
  },
  {
   "cell_type": "code",
   "execution_count": 12,
   "metadata": {},
   "outputs": [],
   "source": [
    "img = data[0, 0, :]\n",
    "seg = target[0, 0, :]"
   ]
  },
  {
   "cell_type": "code",
   "execution_count": null,
   "metadata": {},
   "outputs": [],
   "source": []
  },
  {
   "cell_type": "code",
   "execution_count": 3,
   "metadata": {},
   "outputs": [],
   "source": [
    "pickle_path = r'C:\\Users\\Leo\\Documents\\UHN-MedImg3D-ML-quiz\\nnUNet_preprocessed\\Dataset002_PancreasLesion\\nnUNetPlans_3d_fullres\\quiz_0_041.pkl'\n",
    "\n",
    "pickle = pd.read_pickle(pickle_path)"
   ]
  },
  {
   "cell_type": "code",
   "execution_count": 4,
   "metadata": {},
   "outputs": [
    {
     "name": "stdout",
     "output_type": "stream",
     "text": [
      "{'sitk_stuff': {'spacing': (0.7049999833106995, 0.7049999833106995, 0.801025390625), 'origin': (-164.0625, -180.4687042236328, 1647.5), 'direction': (1.0, 0.0, 0.0, 0.0, 1.0, 0.0, 0.0, 0.0, 1.0)}, 'spacing': [0.801025390625, 0.7049999833106995, 0.7049999833106995], 'shape_before_cropping': (106, 116, 161), 'bbox_used_for_cropping': [[0, 106], [0, 116], [0, 161]], 'shape_after_cropping_and_before_resampling': (106, 116, 161), 'class_locations': {1: array([[ 0, 33, 45, 55],\n",
      "       [ 0, 29, 25, 22],\n",
      "       [ 0, 24, 25, 38],\n",
      "       ...,\n",
      "       [ 0, 27, 55, 34],\n",
      "       [ 0,  8, 38, 70],\n",
      "       [ 0, 35, 44, 28]], dtype=int64), 2: array([[ 0, 30, 39, 51],\n",
      "       [ 0, 34, 43, 31],\n",
      "       [ 0, 34, 43, 28],\n",
      "       ...,\n",
      "       [ 0, 30, 41, 37],\n",
      "       [ 0, 29, 36, 27],\n",
      "       [ 0, 28, 53, 38]], dtype=int64)}}\n"
     ]
    }
   ],
   "source": [
    "print(pickle)"
   ]
  },
  {
   "cell_type": "code",
   "execution_count": 11,
   "metadata": {},
   "outputs": [],
   "source": [
    "class_locations = pickle['class_locations']\n"
   ]
  },
  {
   "cell_type": "code",
   "execution_count": 12,
   "metadata": {},
   "outputs": [
    {
     "name": "stdout",
     "output_type": "stream",
     "text": [
      "{1: array([[ 0, 33, 45, 55],\n",
      "       [ 0, 29, 25, 22],\n",
      "       [ 0, 24, 25, 38],\n",
      "       ...,\n",
      "       [ 0, 27, 55, 34],\n",
      "       [ 0,  8, 38, 70],\n",
      "       [ 0, 35, 44, 28]], dtype=int64), 2: array([[ 0, 30, 39, 51],\n",
      "       [ 0, 34, 43, 31],\n",
      "       [ 0, 34, 43, 28],\n",
      "       ...,\n",
      "       [ 0, 30, 41, 37],\n",
      "       [ 0, 29, 36, 27],\n",
      "       [ 0, 28, 53, 38]], dtype=int64)}\n"
     ]
    }
   ],
   "source": [
    "print(class_locations)\n"
   ]
  },
  {
   "cell_type": "code",
   "execution_count": 13,
   "metadata": {},
   "outputs": [
    {
     "name": "stdout",
     "output_type": "stream",
     "text": [
      "[1, 2]\n"
     ]
    }
   ],
   "source": [
    "eligible_classes_or_regions = [i for i in class_locations.keys() if len(class_locations[i]) > 0]\n",
    "\n",
    "print(eligible_classes_or_regions)"
   ]
  },
  {
   "cell_type": "code",
   "execution_count": null,
   "metadata": {},
   "outputs": [],
   "source": []
  }
 ],
 "metadata": {
  "kaggle": {
   "accelerator": "nvidiaTeslaT4",
   "dataSources": [
    {
     "datasetId": 5566810,
     "sourceId": 9206899,
     "sourceType": "datasetVersion"
    },
    {
     "modelId": 116946,
     "modelInstanceId": 92735,
     "sourceId": 110701,
     "sourceType": "modelInstanceVersion"
    },
    {
     "modelId": 120216,
     "modelInstanceId": 96029,
     "sourceId": 114370,
     "sourceType": "modelInstanceVersion"
    },
    {
     "modelId": 120985,
     "modelInstanceId": 96801,
     "sourceId": 115253,
     "sourceType": "modelInstanceVersion"
    },
    {
     "modelId": 123004,
     "modelInstanceId": 98828,
     "sourceId": 117532,
     "sourceType": "modelInstanceVersion"
    }
   ],
   "dockerImageVersionId": 30761,
   "isGpuEnabled": true,
   "isInternetEnabled": true,
   "language": "python",
   "sourceType": "notebook"
  },
  "kernelspec": {
   "display_name": "Python 3 (ipykernel)",
   "language": "python",
   "name": "python3"
  },
  "language_info": {
   "codemirror_mode": {
    "name": "ipython",
    "version": 3
   },
   "file_extension": ".py",
   "mimetype": "text/x-python",
   "name": "python",
   "nbconvert_exporter": "python",
   "pygments_lexer": "ipython3",
   "version": "3.12.5"
  }
 },
 "nbformat": 4,
 "nbformat_minor": 4
}
