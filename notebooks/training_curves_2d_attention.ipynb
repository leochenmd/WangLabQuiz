{
 "cells": [
  {
   "cell_type": "code",
   "execution_count": 1,
   "id": "32f9ee83-672e-4a51-a896-a5387682373f",
   "metadata": {},
   "outputs": [],
   "source": [
    "### IMPORTS\n",
    "import os\n",
    "import glob\n",
    "import json\n",
    "#import util\n",
    "\n",
    "import numpy as np\n",
    "import pandas as pd\n",
    "import random\n",
    "import math\n",
    "import matplotlib.pyplot as plt\n",
    "\n",
    "import torch\n",
    "import torch.nn as nn\n",
    "import torch.nn.functional as F\n",
    "import torch.utils.data as data\n",
    "from torch.autograd import Variable\n",
    "import torch.nn.init as init\n",
    "\n",
    "from collections import defaultdict\n",
    "from collections import Counter\n",
    "\n",
    "from datetime import datetime\n",
    "\n",
    "import SimpleITK as sitk"
   ]
  },
  {
   "cell_type": "code",
   "execution_count": 2,
   "id": "7c10e352-704e-4dfe-a35e-85a7e86bcaca",
   "metadata": {},
   "outputs": [],
   "source": [
    "# all the model architecture information is in the plans.json file:\n",
    "plans_json_path = r\"C:\\Users\\Leo\\Documents\\UHN-MedImg3D-ML-quiz\\nnUNet_results\\Dataset002_PancreasLesion\\AttentionnUNetTrainer__AttentionnUNetPlans__2d\\plans.json\"\n",
    "\n",
    "# the model files:\n",
    "saved_model_path = r\"C:\\Users\\Leo\\Documents\\UHN-MedImg3D-ML-quiz\\nnUNet_results\\Dataset002_PancreasLesion\\AttentionnUNetTrainer__AttentionnUNetPlans__2d\\fold_0\\checkpoint_final.pth\"\n",
    "\n",
    "saved_model_paths = [saved_model_path.replace('fold_0', 'fold_' + str(i)) for i in range(1)]\n",
    "\n"
   ]
  },
  {
   "cell_type": "code",
   "execution_count": null,
   "id": "bee64a40-90df-4543-a2ef-552ed94efab7",
   "metadata": {},
   "outputs": [],
   "source": []
  },
  {
   "cell_type": "code",
   "execution_count": 3,
   "id": "5e89b3f5-c1e6-4643-8004-89bd8f8a99b7",
   "metadata": {},
   "outputs": [],
   "source": [
    "#pickle = torch.load(saved_model_path, weights_only = False)\n",
    "\n",
    "#network_weights = pickle['network_weights']\n",
    "\n",
    "#for key, value in pickle.items():\n",
    "#    print(key)"
   ]
  },
  {
   "cell_type": "code",
   "execution_count": 4,
   "id": "9733d919-386e-4b9f-880f-2048648f5f2f",
   "metadata": {},
   "outputs": [
    {
     "ename": "NameError",
     "evalue": "name 'pickle' is not defined",
     "output_type": "error",
     "traceback": [
      "\u001b[1;31m---------------------------------------------------------------------------\u001b[0m",
      "\u001b[1;31mNameError\u001b[0m                                 Traceback (most recent call last)",
      "Cell \u001b[1;32mIn[4], line 1\u001b[0m\n\u001b[1;32m----> 1\u001b[0m \u001b[38;5;28;01mfor\u001b[39;00m key, value \u001b[38;5;129;01min\u001b[39;00m pickle[\u001b[38;5;124m'\u001b[39m\u001b[38;5;124mlogging\u001b[39m\u001b[38;5;124m'\u001b[39m]\u001b[38;5;241m.\u001b[39mitems():\n\u001b[0;32m      2\u001b[0m     \u001b[38;5;28mprint\u001b[39m(key)\n",
      "\u001b[1;31mNameError\u001b[0m: name 'pickle' is not defined"
     ]
    }
   ],
   "source": [
    "for key, value in pickle['logging'].items():\n",
    "    print(key)\n",
    "\n"
   ]
  },
  {
   "cell_type": "code",
   "execution_count": 5,
   "id": "cf6df444-6a03-462c-bf61-6391b01b80b4",
   "metadata": {},
   "outputs": [],
   "source": [
    "#for key, value in pickle['logging']['dice_per_class_or_region'].items():\n",
    "#    print(key)\n",
    "\n"
   ]
  },
  {
   "cell_type": "code",
   "execution_count": 6,
   "id": "baf8ecaa-cc1f-402e-b0c2-51be857d7528",
   "metadata": {},
   "outputs": [
    {
     "name": "stdout",
     "output_type": "stream",
     "text": [
      "C:\\Users\\Leo\\Documents\\UHN-MedImg3D-ML-quiz\\nnUNet_results\\Dataset002_PancreasLesion\\AttentionnUNetTrainer__AttentionnUNetPlans__2d\\fold_0\\checkpoint_final.pth\n"
     ]
    }
   ],
   "source": [
    "for i, saved_model_path in enumerate(saved_model_paths):\n",
    "    print(saved_model_path)"
   ]
  },
  {
   "cell_type": "code",
   "execution_count": 7,
   "id": "b1fc3164-1836-4554-9f2a-0c6e81267047",
   "metadata": {},
   "outputs": [],
   "source": [
    "log_df = pd.DataFrame()\n",
    "\n",
    "for i, saved_model_path in enumerate(saved_model_paths):\n",
    "    pickle = torch.load(saved_model_path, weights_only = False)\n",
    "\n",
    "    network_weights = pickle['network_weights']    # all of the weights are here\n",
    "\n",
    "    #print(train_dice_df)\n",
    "\n",
    "    logging = pickle['logging']   # the dice scores and training/val loss are here\n",
    "\n",
    "    \n",
    "    temp_df = pd.DataFrame(logging['dice_per_class_or_region'], columns =['train pancreas dice ' + str(i), 'train lesion dice ' + str(i)]) \n",
    "    train_losses = logging['train_losses']\n",
    "    val_losses = logging['val_losses']\n",
    "\n",
    "    temp_df['train loss ' + str(i)] = train_losses\n",
    "    temp_df['val loss '+ str(i)] = val_losses\n",
    "\n",
    "    log_df = pd.concat([log_df, temp_df], axis=1)\n",
    "    #save the train and val losses to a csv file to plot\n",
    "\n",
    "\n"
   ]
  },
  {
   "cell_type": "code",
   "execution_count": 8,
   "id": "6303bc74-a11b-449e-a06c-de8e7c3f4b9e",
   "metadata": {},
   "outputs": [
    {
     "name": "stdout",
     "output_type": "stream",
     "text": [
      "   train pancreas dice 0 train lesion dice 0  train loss 0  val loss 0\n",
      "0                    NaN                 NaN      1.084226    1.069664\n",
      "1                    NaN                 NaN      1.055035    1.062140\n",
      "2                    NaN                 NaN      1.008314    1.049469\n",
      "3                    NaN                 NaN      0.946254    1.075140\n",
      "4                    NaN                 NaN      0.874697    1.076695\n",
      "5                    NaN                 NaN      0.792576    1.107220\n",
      "6                    NaN                 NaN      0.717940    1.155365\n",
      "7                    NaN                 NaN      0.654551    1.230937\n",
      "8                    NaN                 NaN      0.599972    1.328246\n",
      "9                    NaN                 NaN      0.561464    1.290711\n",
      "10                   NaN                 NaN      0.533154    1.357073\n",
      "11                   NaN                 NaN      0.499289    1.423647\n",
      "12                   NaN                 NaN      0.482503    1.354088\n",
      "13                   NaN                 NaN      0.464702    1.482053\n",
      "14                   NaN                 NaN      0.450013    1.538526\n",
      "15                   NaN                 NaN      0.441383    1.544621\n",
      "16                   NaN                 NaN      0.427507    1.518734\n",
      "17                   NaN                 NaN      0.423393    1.528742\n",
      "18                   NaN                 NaN      0.417479    1.600490\n",
      "19                   NaN                 NaN      0.411339    1.569097\n",
      "20                   NaN                 NaN      0.410446    1.581488\n",
      "21                   NaN                 NaN      0.397248    1.629924\n",
      "22                   NaN                 NaN      0.395333    1.621809\n",
      "23                   NaN                 NaN      0.389161    1.615241\n",
      "24                   NaN                 NaN      0.384829    1.664303\n",
      "25                   NaN                 NaN      0.386275    1.717738\n",
      "26                   NaN                 NaN      0.382876    1.652196\n",
      "27                   NaN                 NaN      0.378445    1.677044\n",
      "28                   NaN                 NaN      0.378509    1.668124\n",
      "29                   NaN                 NaN      0.377369    1.661531\n",
      "30                   NaN                 NaN      0.371747    1.749929\n",
      "31                   NaN                 NaN      0.375784    1.810028\n",
      "32                   NaN                 NaN      0.370745    1.787046\n",
      "33                   NaN                 NaN      0.365748    1.817468\n",
      "34                   NaN                 NaN      0.365857    1.856709\n",
      "35                   NaN                 NaN      0.363860    1.824238\n",
      "36                   NaN                 NaN      0.359964    1.851464\n",
      "37                   NaN                 NaN      0.361486    1.823079\n",
      "38                   NaN                 NaN      0.353128    1.787273\n",
      "39                   NaN                 NaN      0.359905    1.800092\n",
      "40                   NaN                 NaN      0.357821    1.768139\n",
      "41                   NaN                 NaN      0.361937    1.819000\n",
      "42                   NaN                 NaN      0.358210    1.780424\n",
      "43                   NaN                 NaN      0.356037    1.803313\n",
      "44                   NaN                 NaN      0.352410    1.821579\n",
      "45                   NaN                 NaN      0.360250    1.829332\n",
      "46                   NaN                 NaN      0.359087    1.836622\n",
      "47                   NaN                 NaN      0.355017    1.841983\n",
      "48                   NaN                 NaN      0.358752    1.797411\n",
      "49                   NaN                 NaN      0.355461    1.833717\n"
     ]
    }
   ],
   "source": [
    "log_csvpath = r'C:\\Users\\Leo\\OneDrive\\Documents\\GitHub\\WangLabQuiz\\csv files\\segmentation_training_log.csv'   # csv with the image dimensions, image and mask file paths\n",
    "\n",
    "#log_df.to_csv(log_csvpath)\n",
    "    \n",
    "print(log_df)"
   ]
  },
  {
   "cell_type": "code",
   "execution_count": 11,
   "id": "bc5ea6b6-df65-4c97-8be8-3e650712d87d",
   "metadata": {
    "scrolled": true
   },
   "outputs": [
    {
     "data": {
      "image/png": "[encoded data removed]",
      "text/plain": [
       "<Figure size 640x480 with 1 Axes>"
      ]
     },
     "metadata": {},
     "output_type": "display_data"
    }
   ],
   "source": [
    "def plot_training_curves(train_loss, val_loss, pancreas_dice, lesion_dice, fold):\n",
    "    epochs = log_df.index.values + 1\n",
    "          \n",
    "    #sns.set(font_scale=2.5)\n",
    "    #fig, ax_all = plt.subplots(3, 1, figsize=(30, 54))\n",
    "    plt.figure()\n",
    "    ax = plt.axes()  #figsize=(30, 54))\n",
    "    ax.set_title('2d AttentionUNet Loss fold ' + str(fold))\n",
    "    #ax2 = ax.twinx()\n",
    "\n",
    "    x_values = epochs\n",
    "    #ax.plot(x_values, self.my_fantastic_logging['train_losses'][:epoch + 1], color='b', ls='-', label=\"training loss\", linewidth=4)\n",
    "    ax.plot(x_values, train_loss, color='k', ls='-', label=\"training loss\", linewidth=3)\n",
    "    ax.plot(x_values, val_loss, color='b', ls='-', label=\"cross val loss\", linewidth=3)\n",
    "    #ax2.plot(x_values, pancreas_dice, color='g', ls='-', label=\"pancreas dice\", linewidth=3)\n",
    "    #ax2.plot(x_values, lesion_dice, color='r', ls='-', label=\"lesion dice\", linewidth=3)\n",
    "    ax.set_xlabel(\"epoch\")\n",
    "    ax.set_ylabel(\"loss\")\n",
    "    #ax2.set_ylabel(\"dice score\")\n",
    "    ax.legend(loc=(0.3, 0.5))\n",
    "    #ax2.legend(loc=(0.6, 0.5))\n",
    "\n",
    "\n",
    "for i in range(1):\n",
    "    train_loss = log_df['train loss ' + str(i)]\n",
    "    val_loss = log_df['val loss ' + str(i)]\n",
    "\n",
    "    pancreas_dice = None #log_df['train pancreas dice ' + str(i)]\n",
    "    lesion_dice = None #log_df['train lesion dice ' + str(i)]\n",
    "\n",
    "    plot_training_curves(train_loss, val_loss, pancreas_dice, lesion_dice, i)"
   ]
  },
  {
   "cell_type": "code",
   "execution_count": 10,
   "id": "c547e4f2-0136-4a1e-97ad-1cf312a93de4",
   "metadata": {},
   "outputs": [
    {
     "name": "stdout",
     "output_type": "stream",
     "text": [
      "[ 1  2  3  4  5  6  7  8  9 10 11 12 13 14 15 16 17 18 19 20 21 22 23 24\n",
      " 25 26 27 28 29 30 31 32 33 34 35 36 37 38 39 40 41 42 43 44 45 46 47 48\n",
      " 49 50]\n"
     ]
    }
   ],
   "source": [
    "print(log_df.index.values + 1)"
   ]
  },
  {
   "cell_type": "code",
   "execution_count": null,
   "id": "ca13a9bc-170a-40ab-a0f8-74ff89b49d7d",
   "metadata": {},
   "outputs": [],
   "source": []
  },
  {
   "cell_type": "code",
   "execution_count": null,
   "id": "42984d95-f466-4296-a690-f55aa390bf94",
   "metadata": {},
   "outputs": [],
   "source": []
  }
 ],
 "metadata": {
  "kernelspec": {
   "display_name": "Python 3 (ipykernel)",
   "language": "python",
   "name": "python3"
  },
  "language_info": {
   "codemirror_mode": {
    "name": "ipython",
    "version": 3
   },
   "file_extension": ".py",
   "mimetype": "text/x-python",
   "name": "python",
   "nbconvert_exporter": "python",
   "pygments_lexer": "ipython3",
   "version": "3.12.5"
  }
 },
 "nbformat": 4,
 "nbformat_minor": 5
}
