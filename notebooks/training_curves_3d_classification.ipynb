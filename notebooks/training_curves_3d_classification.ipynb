{
 "cells": [
  {
   "cell_type": "code",
   "execution_count": 1,
   "id": "32f9ee83-672e-4a51-a896-a5387682373f",
   "metadata": {},
   "outputs": [],
   "source": [
    "### IMPORTS\n",
    "import os\n",
    "import glob\n",
    "import json\n",
    "#import util\n",
    "\n",
    "import numpy as np\n",
    "import pandas as pd\n",
    "import random\n",
    "import math\n",
    "import matplotlib.pyplot as plt\n",
    "\n",
    "import torch\n",
    "import torch.nn as nn\n",
    "import torch.nn.functional as F\n",
    "import torch.utils.data as data\n",
    "from torch.autograd import Variable\n",
    "import torch.nn.init as init\n",
    "\n",
    "from collections import defaultdict\n",
    "from collections import Counter\n",
    "\n",
    "from datetime import datetime\n",
    "\n",
    "import SimpleITK as sitk"
   ]
  },
  {
   "cell_type": "code",
   "execution_count": 2,
   "id": "7c10e352-704e-4dfe-a35e-85a7e86bcaca",
   "metadata": {},
   "outputs": [],
   "source": [
    "# all the model architecture information is in the plans.json file:\n",
    "plans_json_path = r\"C:\\Users\\Leo\\Documents\\UHN-MedImg3D-ML-quiz\\nnUNet_results\\Dataset002_PancreasLesion\\AttentionnUNetTrainer__AttentionnUNetPlans__3d_fullres\\plans.json\"\n",
    "\n",
    "# the model files:\n",
    "saved_model_path = r\"C:\\Users\\Leo\\Documents\\UHN-MedImg3D-ML-quiz\\nnUNet_results\\Dataset002_PancreasLesion\\AttentionnUNetTrainer__AttentionnUNetPlans__3d_fullres\\fold_0\\checkpoint_final.pth\"\n",
    "\n",
    "saved_model_paths = [saved_model_path.replace('fold_0', 'fold_' + str(i)) for i in range(1)]\n",
    "\n"
   ]
  },
  {
   "cell_type": "code",
   "execution_count": 3,
   "id": "bee64a40-90df-4543-a2ef-552ed94efab7",
   "metadata": {},
   "outputs": [],
   "source": []
  },
  {
   "cell_type": "code",
   "execution_count": 4,
   "id": "5e89b3f5-c1e6-4643-8004-89bd8f8a99b7",
   "metadata": {},
   "outputs": [
    {
     "name": "stdout",
     "output_type": "stream",
     "text": [
      "network_weights\n",
      "optimizer_state\n",
      "grad_scaler_state\n",
      "logging\n",
      "_best_ema\n",
      "current_epoch\n",
      "init_args\n",
      "trainer_name\n",
      "inference_allowed_mirroring_axes\n"
     ]
    }
   ],
   "source": [
    "#pickle = torch.load(saved_model_path, weights_only = False)\n",
    "\n",
    "#network_weights = pickle['network_weights']\n",
    "\n",
    "#for key, value in pickle.items():\n",
    "#    print(key)"
   ]
  },
  {
   "cell_type": "code",
   "execution_count": 3,
   "id": "9733d919-386e-4b9f-880f-2048648f5f2f",
   "metadata": {},
   "outputs": [
    {
     "ename": "NameError",
     "evalue": "name 'picke' is not defined",
     "output_type": "error",
     "traceback": [
      "\u001b[1;31m---------------------------------------------------------------------------\u001b[0m",
      "\u001b[1;31mNameError\u001b[0m                                 Traceback (most recent call last)",
      "Cell \u001b[1;32mIn[3], line 1\u001b[0m\n\u001b[1;32m----> 1\u001b[0m \u001b[38;5;28;01mfor\u001b[39;00m key, value \u001b[38;5;129;01min\u001b[39;00m picke[\u001b[38;5;124m'\u001b[39m\u001b[38;5;124mlogging\u001b[39m\u001b[38;5;124m'\u001b[39m]\u001b[38;5;241m.\u001b[39mitems():\n\u001b[0;32m      2\u001b[0m     \u001b[38;5;28mprint\u001b[39m(key)\n",
      "\u001b[1;31mNameError\u001b[0m: name 'picke' is not defined"
     ]
    }
   ],
   "source": [
    "for key, value in pickle['logging'].items():\n",
    "    print(key)\n",
    "\n"
   ]
  },
  {
   "cell_type": "code",
   "execution_count": 17,
   "id": "cf6df444-6a03-462c-bf61-6391b01b80b4",
   "metadata": {},
   "outputs": [
    {
     "name": "stdout",
     "output_type": "stream",
     "text": [
      "     train pancreas dice  train lesion dice\n",
      "0               0.474920           0.000000\n",
      "1               0.633061           0.000000\n",
      "2               0.727856           0.000000\n",
      "3               0.738956           0.522162\n",
      "4               0.759710           0.528771\n",
      "..                   ...                ...\n",
      "170             0.912466           0.819403\n",
      "171             0.906472           0.824269\n",
      "172             0.913015           0.817304\n",
      "173             0.904498           0.832460\n",
      "174             0.910076           0.855373\n",
      "\n",
      "[175 rows x 2 columns]\n"
     ]
    }
   ],
   "source": [
    "#for key, value in pickle['logging']['dice_per_class_or_region'].items():\n",
    "#    print(key)\n",
    "\n"
   ]
  },
  {
   "cell_type": "code",
   "execution_count": 3,
   "id": "baf8ecaa-cc1f-402e-b0c2-51be857d7528",
   "metadata": {},
   "outputs": [
    {
     "name": "stdout",
     "output_type": "stream",
     "text": [
      "C:\\Users\\Leo\\Documents\\UHN-MedImg3D-ML-quiz\\nnUNet_results\\Dataset002_PancreasLesion\\AttentionnUNetTrainer__AttentionnUNetPlans__3d_fullres\\fold_0\\checkpoint_final.pth\n"
     ]
    }
   ],
   "source": [
    "for i, saved_model_path in enumerate(saved_model_paths):\n",
    "    print(saved_model_path)"
   ]
  },
  {
   "cell_type": "code",
   "execution_count": 4,
   "id": "b1fc3164-1836-4554-9f2a-0c6e81267047",
   "metadata": {},
   "outputs": [],
   "source": [
    "log_df = pd.DataFrame()\n",
    "\n",
    "for i, saved_model_path in enumerate(saved_model_paths):\n",
    "    pickle = torch.load(saved_model_path, weights_only = False)\n",
    "\n",
    "    network_weights = pickle['network_weights']    # all of the weights are here\n",
    "\n",
    "    #print(train_dice_df)\n",
    "\n",
    "    logging = pickle['logging']   # the dice scores and training/val loss are here\n",
    "\n",
    "    \n",
    "    temp_df = pd.DataFrame(logging['dice_per_class_or_region'], columns =['train pancreas dice ' + str(i), 'train lesion dice ' + str(i)]) \n",
    "    train_losses = logging['train_losses']\n",
    "    val_losses = logging['val_losses']\n",
    "\n",
    "    temp_df['train loss ' + str(i)] = train_losses\n",
    "    temp_df['val loss '+ str(i)] = val_losses\n",
    "\n",
    "    log_df = pd.concat([log_df, temp_df], axis=1)\n",
    "    #save the train and val losses to a csv file to plot\n",
    "\n",
    "\n"
   ]
  },
  {
   "cell_type": "code",
   "execution_count": 5,
   "id": "6303bc74-a11b-449e-a06c-de8e7c3f4b9e",
   "metadata": {},
   "outputs": [
    {
     "name": "stdout",
     "output_type": "stream",
     "text": [
      "   train pancreas dice 0 train lesion dice 0  train loss 0  val loss 0\n",
      "0                    NaN                 NaN      1.151837    1.110246\n",
      "1                    NaN                 NaN      1.111056    1.066071\n",
      "2                    NaN                 NaN      1.086084    1.085025\n",
      "3                    NaN                 NaN      1.068955    1.056494\n",
      "4                    NaN                 NaN      1.043730    1.043687\n",
      "5                    NaN                 NaN      1.034337    1.037218\n",
      "6                    NaN                 NaN      1.000002    1.059704\n",
      "7                    NaN                 NaN      1.002069    1.035182\n",
      "8                    NaN                 NaN      0.999154    1.050698\n",
      "9                    NaN                 NaN      0.976897    1.016986\n",
      "10                   NaN                 NaN      0.917385    1.136039\n",
      "11                   NaN                 NaN      0.879336    1.012444\n",
      "12                   NaN                 NaN      0.907434    1.024971\n",
      "13                   NaN                 NaN      0.877827    1.059763\n",
      "14                   NaN                 NaN      0.860094    1.286092\n",
      "15                   NaN                 NaN      0.812944    1.148645\n",
      "16                   NaN                 NaN      0.795741    1.011814\n",
      "17                   NaN                 NaN      0.802828    1.009306\n",
      "18                   NaN                 NaN      0.732555    1.129866\n",
      "19                   NaN                 NaN      0.709412    1.136135\n",
      "20                   NaN                 NaN      0.735038    1.313215\n",
      "21                   NaN                 NaN      0.684380    1.145210\n",
      "22                   NaN                 NaN      0.698452    1.039276\n",
      "23                   NaN                 NaN      0.680102    1.158546\n",
      "24                   NaN                 NaN      0.701071    1.074938\n"
     ]
    }
   ],
   "source": [
    "log_csvpath = r'C:\\Users\\Leo\\OneDrive\\Documents\\GitHub\\WangLabQuiz\\csv files\\segmentation_training_log.csv'   # csv with the image dimensions, image and mask file paths\n",
    "\n",
    "#log_df.to_csv(log_csvpath)\n",
    "    \n",
    "print(log_df)"
   ]
  },
  {
   "cell_type": "code",
   "execution_count": 9,
   "id": "bc5ea6b6-df65-4c97-8be8-3e650712d87d",
   "metadata": {
    "scrolled": true
   },
   "outputs": [
    {
     "data": {
      "image/png": "[encoded data removed]",
      "text/plain": [
       "<Figure size 640x480 with 1 Axes>"
      ]
     },
     "metadata": {},
     "output_type": "display_data"
    }
   ],
   "source": [
    "def plot_training_curves(train_loss, val_loss, pancreas_dice, lesion_dice, fold):\n",
    "    epochs = log_df.index.values + 1\n",
    "          \n",
    "    #sns.set(font_scale=2.5)\n",
    "    #fig, ax_all = plt.subplots(3, 1, figsize=(30, 54))\n",
    "    plt.figure()\n",
    "    ax = plt.axes()  #figsize=(30, 54))\n",
    "    ax.set_title('3d AttentionnUnet Loss fold ' + str(fold))\n",
    "    #ax2 = ax.twinx()\n",
    "\n",
    "    x_values = epochs\n",
    "    #ax.plot(x_values, self.my_fantastic_logging['train_losses'][:epoch + 1], color='b', ls='-', label=\"training loss\", linewidth=4)\n",
    "    ax.plot(x_values, train_loss, color='k', ls='-', label=\"training loss\", linewidth=3)\n",
    "    ax.plot(x_values, val_loss, color='b', ls='-', label=\"cross val loss\", linewidth=3)\n",
    "    #ax2.plot(x_values, pancreas_dice, color='g', ls='-', label=\"pancreas dice\", linewidth=3)\n",
    "    #ax2.plot(x_values, lesion_dice, color='r', ls='-', label=\"lesion dice\", linewidth=3)\n",
    "    ax.set_xlabel(\"epoch\")\n",
    "    ax.set_ylabel(\"loss\")\n",
    "    #ax2.set_ylabel(\"dice score\")\n",
    "    ax.legend(loc=(0.1, 0.1))\n",
    "    #ax2.legend(loc=(0.6, 0.5))\n",
    "\n",
    "\n",
    "for i in range(1):\n",
    "    train_loss = log_df['train loss ' + str(i)]\n",
    "    val_loss = log_df['val loss ' + str(i)]\n",
    "\n",
    "    pancreas_dice = None #log_df['train pancreas dice ' + str(i)]\n",
    "    lesion_dice = None #log_df['train lesion dice ' + str(i)]\n",
    "\n",
    "    plot_training_curves(train_loss, val_loss, pancreas_dice, lesion_dice, i)"
   ]
  },
  {
   "cell_type": "code",
   "execution_count": 7,
   "id": "c547e4f2-0136-4a1e-97ad-1cf312a93de4",
   "metadata": {},
   "outputs": [
    {
     "name": "stdout",
     "output_type": "stream",
     "text": [
      "[ 1  2  3  4  5  6  7  8  9 10 11 12 13 14 15 16 17 18 19 20 21 22 23 24\n",
      " 25]\n"
     ]
    }
   ],
   "source": [
    "print(log_df.index.values + 1)"
   ]
  },
  {
   "cell_type": "code",
   "execution_count": null,
   "id": "ca13a9bc-170a-40ab-a0f8-74ff89b49d7d",
   "metadata": {},
   "outputs": [],
   "source": []
  }
 ],
 "metadata": {
  "kernelspec": {
   "display_name": "Python 3 (ipykernel)",
   "language": "python",
   "name": "python3"
  },
  "language_info": {
   "codemirror_mode": {
    "name": "ipython",
    "version": 3
   },
   "file_extension": ".py",
   "mimetype": "text/x-python",
   "name": "python",
   "nbconvert_exporter": "python",
   "pygments_lexer": "ipython3",
   "version": "3.12.5"
  }
 },
 "nbformat": 4,
 "nbformat_minor": 5
}
